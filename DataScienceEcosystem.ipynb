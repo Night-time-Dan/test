{
 "cells": [
  {
   "cell_type": "markdown",
   "id": "b7895f49-222e-4454-9839-438fdd3711a2",
   "metadata": {},
   "source": [
    "# Data Science Tools and Ecosystem"
   ]
  },
  {
   "cell_type": "markdown",
   "id": "3560acaf-6092-458d-a4f2-bbc49dd49bf5",
   "metadata": {},
   "source": [
    "## Author\n",
    "Janel Cook"
   ]
  },
  {
   "cell_type": "markdown",
   "id": "d8a5e9cf-268e-4659-9ce0-627e0bee89d7",
   "metadata": {},
   "source": [
    "In this notebook, Data Science Tools and Ecosystem are summarized."
   ]
  },
  {
   "cell_type": "markdown",
   "id": "5aefa06e-2503-4bf4-a5a3-7c48e4eefb1a",
   "metadata": {},
   "source": [
    "**Objectives:**"
   ]
  },
  {
   "cell_type": "markdown",
   "id": "0b830f87-43fd-4766-8bb3-ffbc4ed1c3e4",
   "metadata": {},
   "source": [
    "* List popular languages for Data Science\n",
    "* List commonly used libraries used by Data Scientists\n",
    "* List some data science tools in a table\n",
    "* Share some examples of evaluating arithetic expressions in Pyhon "
   ]
  },
  {
   "cell_type": "markdown",
   "id": "1e2e0258-f4f3-4886-825b-2715d282206f",
   "metadata": {},
   "source": [
    "Some of the popular languages that Data Scientists use are:"
   ]
  },
  {
   "cell_type": "markdown",
   "id": "713fc17f-0955-48d8-a97d-46837aba9fd4",
   "metadata": {},
   "source": [
    "**Objectives:**"
   ]
  },
  {
   "cell_type": "markdown",
   "id": "c78c75e4-c959-4639-bedc-1c932074f82f",
   "metadata": {},
   "source": [
    "1. Python\n",
    "2. SQL\n",
    "3. R"
   ]
  },
  {
   "cell_type": "markdown",
   "id": "6fe8c368-0c1d-4249-8869-2de9c77896a3",
   "metadata": {},
   "source": [
    "Some of the commonly used libraries used by Data Scientists include:"
   ]
  },
  {
   "cell_type": "markdown",
   "id": "ab78a34d-51da-45c4-98df-96b0ad21634c",
   "metadata": {},
   "source": [
    "1. Pandas\n",
    "2. Tensorflow\n",
    "3. Keras"
   ]
  },
  {
   "cell_type": "markdown",
   "id": "6f2bb975-21ea-451a-8699-1fdf50893ddd",
   "metadata": {},
   "source": [
    "| Data Science Tools |\n",
    "|--------------------|\n",
    "|Apache Spark|\n",
    "|Apache Hadoop|\n",
    "|D3.js|"
   ]
  },
  {
   "cell_type": "markdown",
   "id": "58020e44-15e0-4800-9f3d-e68f910bb3f0",
   "metadata": {},
   "source": [
    "### Below are a few examples of evaluating arithmetic expressions in Python"
   ]
  },
  {
   "cell_type": "markdown",
   "id": "6df4280b-d247-45de-aeff-557980735992",
   "metadata": {},
   "source": [
    "This a simple arithmetic expression to mutiply then add integers"
   ]
  },
  {
   "cell_type": "code",
   "execution_count": 1,
   "id": "cb01e69f-fd99-4768-9523-9fd9ccbe8df7",
   "metadata": {},
   "outputs": [
    {
     "data": {
      "text/plain": [
       "17"
      ]
     },
     "execution_count": 1,
     "metadata": {},
     "output_type": "execute_result"
    }
   ],
   "source": [
    "(3*4)+5"
   ]
  },
  {
   "cell_type": "markdown",
   "id": "99551a88-4326-4864-b558-b746afcb737f",
   "metadata": {},
   "source": [
    "This will convert 200 minutes to hours by diving by 60"
   ]
  },
  {
   "cell_type": "code",
   "execution_count": 2,
   "id": "ae839830-7d8e-406e-b46b-0bd298961432",
   "metadata": {},
   "outputs": [
    {
     "data": {
      "text/plain": [
       "3.3333333333333335"
      ]
     },
     "execution_count": 2,
     "metadata": {},
     "output_type": "execute_result"
    }
   ],
   "source": [
    "200/60"
   ]
  },
  {
   "cell_type": "code",
   "execution_count": null,
   "id": "fd7372b0-8745-47fc-a97e-63cb5ff6cedc",
   "metadata": {},
   "outputs": [],
   "source": []
  }
 ],
 "metadata": {
  "kernelspec": {
   "display_name": "Python 3 (ipykernel)",
   "language": "python",
   "name": "python3"
  },
  "language_info": {
   "codemirror_mode": {
    "name": "ipython",
    "version": 3
   },
   "file_extension": ".py",
   "mimetype": "text/x-python",
   "name": "python",
   "nbconvert_exporter": "python",
   "pygments_lexer": "ipython3",
   "version": "3.12.8"
  }
 },
 "nbformat": 4,
 "nbformat_minor": 5
}
